{
 "cells": [
  {
   "cell_type": "markdown",
   "metadata": {},
   "source": [
    "# Write dataset in multiple files"
   ]
  },
  {
   "cell_type": "code",
   "execution_count": 30,
   "metadata": {},
   "outputs": [],
   "source": [
    "import csv\n",
    "files = ['./data/1.txt', './data/2.txt', './data/3.txt', './data/4.txt']\n",
    "with open(\"./dataset/traffic-prediction-dataset.csv\") as csv_file:\n",
    "    csv_reader = csv.reader(csv_file, delimiter=',')\n",
    "    next(csv_reader)\n",
    "    for row in csv_reader:\n",
    "        for i in range(len(files)):\n",
    "            with open(files[i], 'a') as f:\n",
    "                f.write(str(row[i])+\"\\n\")"
   ]
  },
  {
   "cell_type": "markdown",
   "metadata": {},
   "source": [
    "# Read from multiple files to train and test dataset"
   ]
  },
  {
   "cell_type": "code",
   "execution_count": 51,
   "metadata": {},
   "outputs": [],
   "source": [
    "import numpy as np\n",
    "from sklearn.preprocessing import MinMaxScaler\n",
    "\n",
    "file = open(files[0], 'r')\n",
    "data = [[] for _ in range(len(file.readlines()))]\n",
    "\n",
    "for file in files:\n",
    "    with open(file) as f:\n",
    "        a = f.read().strip().split('\\n')\n",
    "        for i in range(len(data)):\n",
    "            data[i].append(a[i])\n",
    "\n",
    "scaler = MinMaxScaler()\n",
    "scaler.fit(data)\n",
    "normalized_data = scaler.transform(data)\n",
    "\n",
    "def create_dataset(dataset, look_back=12):\n",
    "    dataX, dataY = [], []\n",
    "    for i in range(len(dataset)-look_back-1):\n",
    "        aux = dataset[i:(i+look_back)]\n",
    "        dataX.append(aux)\n",
    "        dataY.append(dataset[i + look_back])\n",
    "    return np.array(dataX), np.array(dataY)\n",
    "\n",
    "train_size = int(len(normalized_data) * 0.75)\n",
    "test_size = len(normalized_data) - train_size\n",
    "\n",
    "train, test = normalized_data[0:train_size,:], normalized_data[train_size:len(normalized_data),:]\n",
    "x_train, y_train = create_dataset(train)\n",
    "x_test, y_test = create_dataset(test)\n",
    "y_real = scaler.inverse_transform(y_test)\n",
    "\n",
    "train_rnn_size = int(len(x_train)*0.95)\n",
    "\n",
    "x_train_rnn, y_train_rnn = x_train[0:train_rnn_size,:], y_train[0:train_rnn_size,:]\n",
    "x_val_rnn, y_val_rnn = x_train[train_rnn_size:len(x_train),:], y_train[train_rnn_size:len(y_train),:]"
   ]
  },
  {
   "cell_type": "markdown",
   "metadata": {},
   "source": [
    "# Training GRU-RNN"
   ]
  },
  {
   "cell_type": "code",
   "execution_count": 52,
   "metadata": {},
   "outputs": [
    {
     "name": "stdout",
     "output_type": "stream",
     "text": [
      "Model: \"sequential_1\"\n",
      "_________________________________________________________________\n",
      " Layer (type)                Output Shape              Param #   \n",
      "=================================================================\n",
      " gru_2 (GRU)                 (None, 12, 64)            13440     \n",
      "                                                                 \n",
      " gru_3 (GRU)                 (None, 64)                24960     \n",
      "                                                                 \n",
      " dropout_1 (Dropout)         (None, 64)                0         \n",
      "                                                                 \n",
      " dense_1 (Dense)             (None, 4)                 260       \n",
      "                                                                 \n",
      "=================================================================\n",
      "Total params: 38,660\n",
      "Trainable params: 38,660\n",
      "Non-trainable params: 0\n",
      "_________________________________________________________________\n",
      "Epoch 1/50\n",
      "90/90 [==============================] - 4s 20ms/step - loss: 0.0064 - val_loss: 0.0042\n",
      "Epoch 2/50\n",
      "90/90 [==============================] - 1s 15ms/step - loss: 0.0033 - val_loss: 0.0027\n",
      "Epoch 3/50\n",
      "90/90 [==============================] - 1s 16ms/step - loss: 0.0030 - val_loss: 0.0028\n",
      "Epoch 4/50\n",
      "90/90 [==============================] - 1s 15ms/step - loss: 0.0028 - val_loss: 0.0021\n",
      "Epoch 5/50\n",
      "90/90 [==============================] - 1s 15ms/step - loss: 0.0026 - val_loss: 0.0025\n",
      "Epoch 6/50\n",
      "90/90 [==============================] - 1s 15ms/step - loss: 0.0025 - val_loss: 0.0021\n",
      "Epoch 7/50\n",
      "90/90 [==============================] - 1s 15ms/step - loss: 0.0025 - val_loss: 0.0028\n",
      "Epoch 8/50\n",
      "90/90 [==============================] - 1s 15ms/step - loss: 0.0024 - val_loss: 0.0024\n",
      "Epoch 9/50\n",
      "90/90 [==============================] - 1s 15ms/step - loss: 0.0024 - val_loss: 0.0021\n",
      "Epoch 10/50\n",
      "90/90 [==============================] - 1s 15ms/step - loss: 0.0023 - val_loss: 0.0028\n",
      "Epoch 11/50\n",
      "90/90 [==============================] - 1s 15ms/step - loss: 0.0023 - val_loss: 0.0028\n",
      "Epoch 12/50\n",
      "90/90 [==============================] - 1s 15ms/step - loss: 0.0023 - val_loss: 0.0021\n",
      "Epoch 13/50\n",
      "90/90 [==============================] - 1s 15ms/step - loss: 0.0022 - val_loss: 0.0020\n",
      "Epoch 14/50\n",
      "90/90 [==============================] - 1s 17ms/step - loss: 0.0022 - val_loss: 0.0024\n",
      "Epoch 15/50\n",
      "90/90 [==============================] - 1s 16ms/step - loss: 0.0022 - val_loss: 0.0019\n",
      "Epoch 16/50\n",
      "90/90 [==============================] - 2s 18ms/step - loss: 0.0022 - val_loss: 0.0019\n",
      "Epoch 17/50\n",
      "90/90 [==============================] - 2s 17ms/step - loss: 0.0022 - val_loss: 0.0019\n",
      "Epoch 18/50\n",
      "90/90 [==============================] - 1s 15ms/step - loss: 0.0022 - val_loss: 0.0020\n",
      "Epoch 19/50\n",
      "90/90 [==============================] - 1s 15ms/step - loss: 0.0022 - val_loss: 0.0022\n",
      "Epoch 20/50\n",
      "90/90 [==============================] - 1s 15ms/step - loss: 0.0021 - val_loss: 0.0020\n",
      "Epoch 21/50\n",
      "90/90 [==============================] - 1s 15ms/step - loss: 0.0021 - val_loss: 0.0019\n",
      "Epoch 22/50\n",
      "90/90 [==============================] - 1s 15ms/step - loss: 0.0021 - val_loss: 0.0024\n",
      "Epoch 23/50\n",
      "90/90 [==============================] - 1s 15ms/step - loss: 0.0021 - val_loss: 0.0019\n",
      "Epoch 24/50\n",
      "90/90 [==============================] - 1s 15ms/step - loss: 0.0021 - val_loss: 0.0019\n",
      "Epoch 25/50\n",
      "90/90 [==============================] - 1s 15ms/step - loss: 0.0021 - val_loss: 0.0021\n",
      "Epoch 26/50\n",
      "90/90 [==============================] - 1s 16ms/step - loss: 0.0021 - val_loss: 0.0022\n",
      "Epoch 27/50\n",
      "90/90 [==============================] - 1s 15ms/step - loss: 0.0021 - val_loss: 0.0021\n",
      "Epoch 28/50\n",
      "90/90 [==============================] - 1s 15ms/step - loss: 0.0021 - val_loss: 0.0022\n",
      "Epoch 29/50\n",
      "90/90 [==============================] - 1s 16ms/step - loss: 0.0020 - val_loss: 0.0021\n",
      "Epoch 30/50\n",
      "90/90 [==============================] - 1s 15ms/step - loss: 0.0021 - val_loss: 0.0019\n",
      "Epoch 31/50\n",
      "90/90 [==============================] - 1s 15ms/step - loss: 0.0021 - val_loss: 0.0020\n",
      "Epoch 32/50\n",
      "90/90 [==============================] - 1s 15ms/step - loss: 0.0021 - val_loss: 0.0019\n",
      "Epoch 33/50\n",
      "90/90 [==============================] - 1s 15ms/step - loss: 0.0021 - val_loss: 0.0022\n",
      "Epoch 34/50\n",
      "90/90 [==============================] - 1s 15ms/step - loss: 0.0020 - val_loss: 0.0022\n",
      "Epoch 35/50\n",
      "90/90 [==============================] - 1s 15ms/step - loss: 0.0021 - val_loss: 0.0020\n",
      "Epoch 36/50\n",
      "90/90 [==============================] - 1s 15ms/step - loss: 0.0020 - val_loss: 0.0019\n",
      "Epoch 37/50\n",
      "90/90 [==============================] - 1s 15ms/step - loss: 0.0020 - val_loss: 0.0020\n",
      "Epoch 38/50\n",
      "90/90 [==============================] - 1s 15ms/step - loss: 0.0020 - val_loss: 0.0020\n",
      "Epoch 39/50\n",
      "90/90 [==============================] - 1s 15ms/step - loss: 0.0020 - val_loss: 0.0020\n",
      "Epoch 40/50\n",
      "90/90 [==============================] - 1s 15ms/step - loss: 0.0020 - val_loss: 0.0020\n",
      "Epoch 41/50\n",
      "90/90 [==============================] - 1s 16ms/step - loss: 0.0020 - val_loss: 0.0020\n",
      "Epoch 42/50\n",
      "90/90 [==============================] - 1s 16ms/step - loss: 0.0020 - val_loss: 0.0019\n",
      "Epoch 43/50\n",
      "90/90 [==============================] - 1s 16ms/step - loss: 0.0020 - val_loss: 0.0022\n",
      "Epoch 44/50\n",
      "90/90 [==============================] - 1s 16ms/step - loss: 0.0020 - val_loss: 0.0019\n",
      "Epoch 45/50\n",
      "90/90 [==============================] - 1s 16ms/step - loss: 0.0020 - val_loss: 0.0019\n",
      "Epoch 46/50\n",
      "90/90 [==============================] - 1s 15ms/step - loss: 0.0020 - val_loss: 0.0019\n",
      "Epoch 47/50\n",
      "90/90 [==============================] - 1s 15ms/step - loss: 0.0020 - val_loss: 0.0019\n",
      "Epoch 48/50\n",
      "90/90 [==============================] - 1s 16ms/step - loss: 0.0020 - val_loss: 0.0019\n",
      "Epoch 49/50\n",
      "90/90 [==============================] - 1s 16ms/step - loss: 0.0020 - val_loss: 0.0019\n",
      "Epoch 50/50\n",
      "90/90 [==============================] - 1s 16ms/step - loss: 0.0020 - val_loss: 0.0020\n"
     ]
    },
    {
     "data": {
      "text/plain": [
       "<keras.callbacks.History at 0x7f952879eb50>"
      ]
     },
     "execution_count": 52,
     "metadata": {},
     "output_type": "execute_result"
    }
   ],
   "source": [
    "from keras.models import Sequential \n",
    "from keras.layers import Dense, Dropout, InputLayer\n",
    "from keras.layers import GRU\n",
    "from keras.callbacks import History \n",
    "\n",
    "history_gru = History()\n",
    "\n",
    "gru_model = Sequential()\n",
    "gru_model.add(InputLayer(input_shape=(12, 4)))\n",
    "gru_model.add(GRU(64, return_sequences=True))\n",
    "gru_model.add(GRU(64))\n",
    "gru_model.add(Dropout(0.2))\n",
    "gru_model.add(Dense(4))\n",
    "gru_model.compile(loss='mean_squared_error', optimizer='rmsprop')\n",
    "gru_model.summary()\n",
    "\n",
    "gru_model.fit(x_train_rnn, y_train_rnn, epochs=50, batch_size=128, validation_data=(x_val_rnn, y_val_rnn), callbacks=[history_gru])"
   ]
  },
  {
   "cell_type": "markdown",
   "metadata": {},
   "source": [
    "# Testing GRU-RNN"
   ]
  },
  {
   "cell_type": "code",
   "execution_count": 55,
   "metadata": {},
   "outputs": [
    {
     "name": "stdout",
     "output_type": "stream",
     "text": [
      "126/126 [==============================] - 0s 4ms/step\n",
      "Mean Absolute error: 11.368769189107418\n",
      "Mean Squared error: 16.61809767638693\n"
     ]
    },
    {
     "data": {
      "image/png": "[encoded data removed]",
      "text/plain": [
       "<Figure size 432x288 with 1 Axes>"
      ]
     },
     "metadata": {
      "needs_background": "light"
     },
     "output_type": "display_data"
    }
   ],
   "source": [
    "import matplotlib.pyplot as plt\n",
    "from sklearn.metrics import mean_absolute_error, mean_squared_error\n",
    "\n",
    "\n",
    "epochs = [i+1 for i in range(50)]\n",
    "loss_gru = history_gru.history['loss']\n",
    "val_loss_gru = history_gru.history['val_loss']\n",
    "\n",
    "plt.plot(epochs, loss_gru)\n",
    "plt.plot(epochs, val_loss_gru)\n",
    "plt.xlabel(\"epochs\")\n",
    "plt.ylabel(\"loss metrics\")\n",
    "plt.legend(['loss', 'val_loss'])\n",
    "plt.savefig(\"./images/loss_gru.jpg\")\n",
    "\n",
    "y_pred_gru = gru_model.predict(x_test)\n",
    "y_real_pred_gru = scaler.inverse_transform(y_pred_gru)\n",
    "\n",
    "print(\"Mean Absolute error:\", mean_absolute_error(y_real, y_real_pred_gru))\n",
    "print(\"Mean Squared error:\", mean_squared_error(y_real, y_real_pred_gru, squared=False))"
   ]
  },
  {
   "cell_type": "markdown",
   "metadata": {},
   "source": [
    "# Save model"
   ]
  },
  {
   "cell_type": "code",
   "execution_count": 56,
   "metadata": {},
   "outputs": [],
   "source": [
    "gru_model.save('./model/rnn.h5')"
   ]
  },
  {
   "cell_type": "markdown",
   "metadata": {},
   "source": [
    "# Load and use model"
   ]
  },
  {
   "cell_type": "code",
   "execution_count": 66,
   "metadata": {},
   "outputs": [
    {
     "name": "stdout",
     "output_type": "stream",
     "text": [
      "126/126 [==============================] - 1s 4ms/step\n"
     ]
    },
    {
     "data": {
      "text/plain": [
       "array([[0.10033071, 0.02974549, 0.07338479, 0.07468648],\n",
       "       [0.10185571, 0.02265386, 0.06292497, 0.05639981],\n",
       "       [0.11865223, 0.02413091, 0.0732044 , 0.05524476],\n",
       "       ...,\n",
       "       [0.23216617, 0.09914624, 0.17254412, 0.19404295],\n",
       "       [0.21607238, 0.11282393, 0.1764462 , 0.17673017],\n",
       "       [0.22856839, 0.10636438, 0.16234745, 0.18139666]], dtype=float32)"
      ]
     },
     "execution_count": 66,
     "metadata": {},
     "output_type": "execute_result"
    }
   ],
   "source": [
    "import keras\n",
    "\n",
    "new_model = keras.models.load_model('./model/rnn.h5')\n",
    "new = new_model.predict(x_test)\n",
    "new"
   ]
  }
 ],
 "metadata": {
  "kernelspec": {
   "display_name": "Python 3.9.12 ('base')",
   "language": "python",
   "name": "python3"
  },
  "language_info": {
   "codemirror_mode": {
    "name": "ipython",
    "version": 3
   },
   "file_extension": ".py",
   "mimetype": "text/x-python",
   "name": "python",
   "nbconvert_exporter": "python",
   "pygments_lexer": "ipython3",
   "version": "3.9.12"
  },
  "orig_nbformat": 4,
  "vscode": {
   "interpreter": {
    "hash": "5e1003431ffaf7ede86a3f1a398312c7d1bbb13de8cad98e0a1dc871d27342b2"
   }
  }
 },
 "nbformat": 4,
 "nbformat_minor": 2
}
